{
 "cells": [
  {
   "cell_type": "code",
   "execution_count": 4,
   "id": "637b7b11",
   "metadata": {},
   "outputs": [],
   "source": [
    "import numpy as np\n",
    "import tensorflow as tf\n",
    "from tensorflow import keras\n",
    "from tensorflow.keras import layers\n",
    "import matplotlib.pyplot as plt\n",
    "from sklearn.model_selection import train_test_split\n",
    "from sklearn.neighbors import KNeighborsClassifier\n",
    "from sklearn.naive_bayes import GaussianNB\n",
    "from sklearn.metrics import confusion_matrix\n",
    "from sklearn.metrics import classification_report\n",
    "from sklearn.metrics import ConfusionMatrixDisplay\n",
    "from scipy.interpolate import make_interp_spline\n",
    "from sklearn.linear_model import LogisticRegression\n",
    "import difflib\n",
    "from sklearn.dummy import DummyClassifier\n",
    "from tqdm import tqdm\n",
    "from sklearn.feature_extraction.text import TfidfVectorizer\n",
    "\n",
    "import nltk\n",
    "from nltk import word_tokenize\n",
    "from nltk.corpus import stopwords\n",
    "\n",
    "from nltk.corpus import movie_reviews\n",
    "from nltk.stem.snowball import PorterStemmer\n",
    "import string\n",
    "import re\n",
    "\n",
    "import tensorflow \n",
    "from tensorflow import keras\n",
    "#import spacy\n",
    "#from spacy.lang.en.stop_words import STOP_WORDS\n",
    "from gensim.models import Word2Vec\n",
    "from sklearn.feature_extraction.text import CountVectorizer"
   ]
  },
  {
   "cell_type": "code",
   "execution_count": 5,
   "id": "5b255818",
   "metadata": {},
   "outputs": [
    {
     "data": {
      "text/plain": [
       "True"
      ]
     },
     "execution_count": 5,
     "metadata": {},
     "output_type": "execute_result"
    }
   ],
   "source": [
    "# Load the nltk dataset\n",
    "nltk.download('movie_reviews', quiet=True)"
   ]
  },
  {
   "cell_type": "code",
   "execution_count": 6,
   "id": "564af266",
   "metadata": {},
   "outputs": [],
   "source": [
    "x = [' '.join(movie_reviews.words(file_id)) for file_id in movie_reviews.fileids()]\n",
    "y = [movie_reviews.categories(file_id)[0] for file_id in movie_reviews.fileids()]\n",
    "\n",
    "y = [0 if label == 'neg' else 1 for label in y]\n",
    "x_train, x_test, y_train, y_test = train_test_split(x, y, test_size=0.3, random_state=42)"
   ]
  },
  {
   "cell_type": "code",
   "execution_count": 7,
   "id": "cc6d3aee",
   "metadata": {},
   "outputs": [],
   "source": [
    "nltk.download('punkt', quiet=True)\n",
    "nltk.download('stopwords', quiet=True)\n",
    "\n",
    "stemmer = PorterStemmer()\n",
    "\n",
    "def stopword_and_stem_tokenizer(corpus):\n",
    "    \"\"\"\n",
    "    Custom tokenizer function to be passed in TfidfVectorizer.\n",
    "    Ignores english stopwords and applies stemming to remaining tokens.\n",
    "    \"\"\"\n",
    "    tokens = [word for sentence in nltk.word_tokenize(corpus) for word in nltk.word_tokenize(sentence)]\n",
    "    valid_tokens = []\n",
    "    for token in tokens:\n",
    "        if re.search('[a-zA-Z]', token): # ignore non-alphabetic characters\n",
    "            valid_tokens.append(token)\n",
    "    result = [stemmer.stem(t) for t in valid_tokens if t not in stopwords.words('english')]\n",
    "    return result"
   ]
  },
  {
   "cell_type": "code",
   "execution_count": 8,
   "id": "dd4b86f1",
   "metadata": {},
   "outputs": [],
   "source": [
    "corpora = []\n",
    "y_new = []\n",
    "for i,sentence in enumerate(x_train):\n",
    "  #  st = stopword_and_stem_tokenizer(sentence)\n",
    "   # stl = str(st)\n",
    "    curr = word_tokenize(sentence)\n",
    "    curr = [word for word in curr]\n",
    "    ioi = [y_train[i] for word in curr]\n",
    "    y_new.append(ioi)\n",
    "    corpora.append(curr)\n",
    "    \n",
    "        \n",
    "    \n",
    "test_x = []\n",
    "for sentence in x_test:\n",
    "   # st = stopword_and_stem_tokenizer(sentence)\n",
    "  #  stl = str(st)\n",
    "    curr = word_tokenize(sentence)\n",
    "    curr = [word for word in curr]\n",
    "    test_x.append(curr)"
   ]
  },
  {
   "cell_type": "code",
   "execution_count": 9,
   "id": "ef711347",
   "metadata": {},
   "outputs": [],
   "source": [
    "#corpora = []\n",
    "#y_new = []\n",
    "#for j,i in enumerate(x_train):\n",
    " #   corpora.append(i.split('.'))\n",
    "  #  for k in range(len(i.split('.'))):\n",
    "   #     y_new.append(y_train[j])\n",
    "        \n",
    "#flat = [x for row in corpora for x in row]\n",
    "\n",
    "    \n",
    "ultra = []\n",
    "y_tests = []\n",
    "for j,i in enumerate(x_test):\n",
    "    ultra.append(i.split('.'))\n",
    "    for k in range(len(i.split('.'))):\n",
    "        y_tests.append(y_test[j])\n",
    "    \n",
    "extra = [x for row in ultra for x in row]"
   ]
  },
  {
   "cell_type": "markdown",
   "id": "68de8f16",
   "metadata": {},
   "source": [
    "### Methods to assess the performance of each classifier\n",
    "\n",
    "As stated, the idea of implementing a polynomial classifier was set; however, to assess the polynomial classifier objectively a direct comparison between the polynomial classifier and other machine learning methods is necessary. For this reason, a classification report as well as the confusion matrix for each classifier is a coded method."
   ]
  },
  {
   "cell_type": "code",
   "execution_count": 10,
   "id": "7d97455d",
   "metadata": {},
   "outputs": [],
   "source": [
    "def sk_metrics(y_test,prediction_test,x_test,clf):\n",
    "    print('Testing set')\n",
    "    print('===========')\n",
    "    print(classification_report(y_test, prediction_test, zero_division=0))\n",
    "    # confusion matrix\n",
    "    ConfusionMatrixDisplay.from_estimator(clf, x_test, y_test, values_format='.0f')\n",
    "    plt.show()"
   ]
  },
  {
   "cell_type": "code",
   "execution_count": 11,
   "id": "0242778e",
   "metadata": {
    "scrolled": false
   },
   "outputs": [],
   "source": [
    "dummy_clf = DummyClassifier(strategy=\"most_frequent\")\n",
    "dummy_clf.fit(x_train, y_train)\n",
    "preds = dummy_clf.predict(x_test)"
   ]
  },
  {
   "cell_type": "code",
   "execution_count": 12,
   "id": "0f53da4e",
   "metadata": {},
   "outputs": [
    {
     "name": "stdout",
     "output_type": "stream",
     "text": [
      "Testing set\n",
      "===========\n",
      "              precision    recall  f1-score   support\n",
      "\n",
      "           0       0.00      0.00      0.00       302\n",
      "           1       0.50      1.00      0.66       298\n",
      "\n",
      "    accuracy                           0.50       600\n",
      "   macro avg       0.25      0.50      0.33       600\n",
      "weighted avg       0.25      0.50      0.33       600\n",
      "\n"
     ]
    },
    {
     "data": {
      "image/png": "[encoded data removed]",
      "text/plain": [
       "<Figure size 640x480 with 2 Axes>"
      ]
     },
     "metadata": {},
     "output_type": "display_data"
    }
   ],
   "source": [
    "sk_metrics(y_test,preds,x_test,dummy_clf)"
   ]
  },
  {
   "cell_type": "code",
   "execution_count": 17,
   "id": "3cbb6fee",
   "metadata": {},
   "outputs": [],
   "source": [
    "class D1LP(object):\n",
    "    def __init__(self, valid_data, eval_data):\n",
    "        super(object, self).__init__()\n",
    "        self.validation_data = valid_data\n",
    "        self.evaluation_data = eval_data\n",
    "        \n",
    "        \n",
    "    def separate(self,imp,lotion):\n",
    "        T = []\n",
    "        Y0=self.evaluation_data\n",
    "        X0 = self.validation_data # images\n",
    "\n",
    "        for x in range(len(set(Y0))):\n",
    "            T.append([])\n",
    "            \n",
    "        for x,i in enumerate(Y0):\n",
    "            T[i].append(lotion[x])\n",
    "            \n",
    "        return T\n",
    "\n",
    "    \n",
    "    def EuC(self,error,test): \n",
    "        euge = np.max([difflib.SequenceMatcher(None,t,test).ratio() for t in error])\n",
    "        return euge\n",
    "    \n",
    "    \n",
    "   \n",
    "            \n",
    "    def classify(self,test_data):\n",
    "        arr = set(self.evaluation_data)\n",
    "        X0 = self.validation_data\n",
    "        Y0 = self.evaluation_data\n",
    "        \n",
    "\n",
    "        train_x = []\n",
    "        for i,j in enumerate(X0):\n",
    "            train_x.append(j)\n",
    "        hoc = self.separate(X0,train_x)\n",
    "        \n",
    "        test_x = []\n",
    "        for i,j in enumerate(test_data):\n",
    "          #  flat = [x for row in matrix for x in row]\n",
    "            test_x.append(j)\n",
    "        \n",
    "        land = []\n",
    "        for al8da in tqdm(range(len(test_x)),ascii=' >=',bar_format='{desc:<5.5}{percentage:3.0f}%|{bar:50}{r_bar}'):\n",
    "            mos = []\n",
    "            for ad in range(len(arr)):\n",
    "                ris = self.EuC(hoc[ad],test_x[al8da])\n",
    "                mos.append(ris)\n",
    "            land.append(np.argmax(mos))\n",
    "\n",
    "        return land\n",
    "        "
   ]
  },
  {
   "cell_type": "code",
   "execution_count": null,
   "id": "586ac8df",
   "metadata": {
    "scrolled": true
   },
   "outputs": [
    {
     "name": "stderr",
     "output_type": "stream",
     "text": [
      "\r",
      "       0%|                                                  | 0/45 [00:00<?, ?it/s]"
     ]
    },
    {
     "name": "stdout",
     "output_type": "stream",
     "text": [
      "0.04390243902439024\n",
      "0.06334841628959276\n",
      "0.0165016501650165\n",
      "0.014783526927138331\n",
      "0.03180212014134275\n",
      "0.0535279805352798\n",
      "0.04338394793926247\n"
     ]
    },
    {
     "name": "stderr",
     "output_type": "stream",
     "text": [
      "\r",
      "      16%|=======>                                          | 7/45 [00:00<00:00, 62.33it/s]"
     ]
    },
    {
     "name": "stdout",
     "output_type": "stream",
     "text": [
      "0.015082956259426848\n",
      "0.04481792717086835\n",
      "0.014787430683918669\n",
      "0.056338028169014086\n",
      "0.04081632653061224\n",
      "0.0514018691588785\n",
      "0.05\n"
     ]
    },
    {
     "name": "stderr",
     "output_type": "stream",
     "text": [
      "\r",
      "      31%|===============>                                  | 14/45 [00:00<00:00, 62.66it/s]"
     ]
    },
    {
     "name": "stdout",
     "output_type": "stream",
     "text": [
      "0.057649667405764965\n",
      "0.038781163434903045\n",
      "0.021052631578947368\n",
      "0.0\n",
      "0.0\n",
      "0.03773584905660377\n",
      "0.04807692307692308\n",
      "0.025\n",
      "0.0\n",
      "0.0\n",
      "0.03773584905660377\n"
     ]
    },
    {
     "name": "stderr",
     "output_type": "stream",
     "text": [
      "\r",
      "      56%|===========================>                      | 25/45 [00:00<00:00, 81.60it/s]"
     ]
    },
    {
     "name": "stdout",
     "output_type": "stream",
     "text": [
      "0.0\n",
      "0.0\n",
      "0.01929260450160772\n",
      "0.0\n",
      "0.0\n",
      "0.0110803324099723\n",
      "0.034653465346534656\n",
      "0.0\n",
      "0.0\n",
      "0.029411764705882353\n",
      "0.014265335235378032\n",
      "0.043333333333333335\n",
      "0.03115264797507788\n",
      "0.07202216066481995\n",
      "0.058823529411764705\n"
     ]
    },
    {
     "name": "stderr",
     "output_type": "stream",
     "text": [
      "\r",
      "      89%|============================================      | 40/45 [00:00<00:00, 102.09it/s]"
     ]
    },
    {
     "name": "stdout",
     "output_type": "stream",
     "text": [
      "0.07425742574257425\n",
      "0.014134275618374558\n",
      "0.03608247422680412\n",
      "0.013513513513513514\n",
      "0.04790419161676647\n"
     ]
    },
    {
     "name": "stderr",
     "output_type": "stream",
     "text": [
      "     100%|==================================================| 45/45 [00:00<00:00, 90.26it/s] \n",
      "       0%|                                                  | 0/45 [00:00<?, ?it/s]"
     ]
    },
    {
     "name": "stdout",
     "output_type": "stream",
     "text": [
      "0.04390243902439024\n",
      "0.06334841628959276\n",
      "0.0165016501650165\n",
      "0.014783526927138331\n",
      "0.03180212014134275\n",
      "0.0535279805352798\n",
      "0.04338394793926247\n"
     ]
    },
    {
     "name": "stderr",
     "output_type": "stream",
     "text": [
      "\r",
      "      16%|=======>                                          | 7/45 [00:00<00:00, 68.81it/s]"
     ]
    },
    {
     "name": "stdout",
     "output_type": "stream",
     "text": [
      "0.015082956259426848\n",
      "0.04481792717086835\n",
      "0.014787430683918669\n",
      "0.056338028169014086\n",
      "0.04081632653061224\n",
      "0.0514018691588785\n",
      "0.05\n"
     ]
    },
    {
     "name": "stderr",
     "output_type": "stream",
     "text": [
      "\r",
      "      31%|===============>                                  | 14/45 [00:00<00:00, 67.60it/s]"
     ]
    },
    {
     "name": "stdout",
     "output_type": "stream",
     "text": [
      "0.057649667405764965\n",
      "0.038781163434903045\n",
      "0.021052631578947368\n",
      "0.0\n",
      "0.0\n",
      "0.03773584905660377\n",
      "0.04807692307692308\n",
      "0.025\n",
      "0.0\n",
      "0.0\n",
      "0.03773584905660377\n"
     ]
    },
    {
     "name": "stderr",
     "output_type": "stream",
     "text": [
      "\r",
      "      56%|===========================>                      | 25/45 [00:00<00:00, 85.87it/s]"
     ]
    },
    {
     "name": "stdout",
     "output_type": "stream",
     "text": [
      "0.0\n",
      "0.0\n",
      "0.01929260450160772\n",
      "0.0\n",
      "0.0\n",
      "0.0110803324099723\n",
      "0.034653465346534656\n",
      "0.0\n",
      "0.0\n",
      "0.029411764705882353\n",
      "0.014265335235378032\n",
      "0.043333333333333335\n",
      "0.03115264797507788\n",
      "0.07202216066481995\n"
     ]
    },
    {
     "name": "stderr",
     "output_type": "stream",
     "text": [
      "\r",
      "      87%|===========================================       | 39/45 [00:00<00:00, 105.65it/s]"
     ]
    },
    {
     "name": "stdout",
     "output_type": "stream",
     "text": [
      "0.058823529411764705\n",
      "0.07425742574257425\n",
      "0.014134275618374558\n",
      "0.03608247422680412\n",
      "0.013513513513513514\n",
      "0.04790419161676647\n"
     ]
    },
    {
     "name": "stderr",
     "output_type": "stream",
     "text": [
      "     100%|==================================================| 45/45 [00:00<00:00, 93.53it/s] \n",
      "       0%|                                                  | 0/45 [00:00<?, ?it/s]"
     ]
    },
    {
     "name": "stdout",
     "output_type": "stream",
     "text": [
      "0.04390243902439024\n",
      "0.06334841628959276\n",
      "0.0165016501650165\n",
      "0.014783526927138331\n",
      "0.03180212014134275\n",
      "0.0535279805352798\n",
      "0.04338394793926247\n"
     ]
    },
    {
     "name": "stderr",
     "output_type": "stream",
     "text": [
      "\r",
      "      16%|=======>                                          | 7/45 [00:00<00:00, 66.30it/s]"
     ]
    },
    {
     "name": "stdout",
     "output_type": "stream",
     "text": [
      "0.015082956259426848\n",
      "0.04481792717086835\n",
      "0.014787430683918669\n",
      "0.056338028169014086\n",
      "0.04081632653061224\n",
      "0.0514018691588785\n",
      "0.05\n"
     ]
    },
    {
     "name": "stderr",
     "output_type": "stream",
     "text": [
      "\r",
      "      31%|===============>                                  | 14/45 [00:00<00:00, 66.08it/s]"
     ]
    },
    {
     "name": "stdout",
     "output_type": "stream",
     "text": [
      "0.057649667405764965\n",
      "0.038781163434903045\n",
      "0.021052631578947368\n",
      "0.0\n",
      "0.0\n",
      "0.03773584905660377\n",
      "0.04807692307692308\n",
      "0.025\n",
      "0.0\n",
      "0.0\n",
      "0.03773584905660377\n",
      "0.0\n",
      "0.0\n",
      "0.01929260450160772\n"
     ]
    },
    {
     "name": "stderr",
     "output_type": "stream",
     "text": [
      "\r",
      "      62%|===============================                   | 28/45 [00:00<00:00, 95.38it/s]"
     ]
    },
    {
     "name": "stdout",
     "output_type": "stream",
     "text": [
      "0.0\n",
      "0.0\n",
      "0.0110803324099723\n",
      "0.034653465346534656\n",
      "0.0\n",
      "0.0\n",
      "0.029411764705882353\n",
      "0.014265335235378032\n",
      "0.043333333333333335\n",
      "0.03115264797507788\n",
      "0.07202216066481995\n",
      "0.058823529411764705\n",
      "0.07425742574257425\n"
     ]
    },
    {
     "name": "stderr",
     "output_type": "stream",
     "text": [
      "\r",
      "      91%|=============================================>    | 41/45 [00:00<00:00, 99.22it/s]"
     ]
    },
    {
     "name": "stdout",
     "output_type": "stream",
     "text": [
      "0.014134275618374558\n",
      "0.03608247422680412\n",
      "0.013513513513513514\n",
      "0.04790419161676647\n"
     ]
    },
    {
     "name": "stderr",
     "output_type": "stream",
     "text": [
      "     100%|==================================================| 45/45 [00:00<00:00, 94.95it/s]\n",
      "       0%|                                                  | 0/45 [00:00<?, ?it/s]"
     ]
    },
    {
     "name": "stdout",
     "output_type": "stream",
     "text": [
      "0.04390243902439024\n",
      "0.06334841628959276\n",
      "0.0165016501650165\n",
      "0.014783526927138331\n",
      "0.03180212014134275\n",
      "0.0535279805352798\n",
      "0.04338394793926247\n"
     ]
    },
    {
     "name": "stderr",
     "output_type": "stream",
     "text": [
      "\r",
      "      16%|=======>                                          | 7/45 [00:00<00:00, 67.67it/s]"
     ]
    },
    {
     "name": "stdout",
     "output_type": "stream",
     "text": [
      "0.015082956259426848\n",
      "0.04481792717086835\n",
      "0.014787430683918669\n",
      "0.056338028169014086\n",
      "0.04081632653061224\n",
      "0.0514018691588785\n",
      "0.05\n"
     ]
    },
    {
     "name": "stderr",
     "output_type": "stream",
     "text": [
      "\r",
      "      31%|===============>                                  | 14/45 [00:00<00:00, 65.45it/s]"
     ]
    },
    {
     "name": "stdout",
     "output_type": "stream",
     "text": [
      "0.057649667405764965\n",
      "0.038781163434903045\n",
      "0.021052631578947368\n",
      "0.0\n",
      "0.0\n",
      "0.03773584905660377\n",
      "0.04807692307692308\n",
      "0.025\n",
      "0.0\n",
      "0.0\n",
      "0.03773584905660377\n"
     ]
    },
    {
     "name": "stderr",
     "output_type": "stream",
     "text": [
      "\r",
      "      56%|===========================>                      | 25/45 [00:00<00:00, 83.64it/s]"
     ]
    },
    {
     "name": "stdout",
     "output_type": "stream",
     "text": [
      "0.0\n",
      "0.0\n",
      "0.01929260450160772\n",
      "0.0\n",
      "0.0\n",
      "0.0110803324099723\n",
      "0.034653465346534656\n",
      "0.0\n",
      "0.0\n",
      "0.029411764705882353\n",
      "0.014265335235378032\n",
      "0.043333333333333335\n",
      "0.03115264797507788\n",
      "0.07202216066481995\n",
      "0.058823529411764705\n"
     ]
    },
    {
     "name": "stderr",
     "output_type": "stream",
     "text": [
      "\r",
      "      89%|============================================      | 40/45 [00:00<00:00, 104.77it/s]"
     ]
    },
    {
     "name": "stdout",
     "output_type": "stream",
     "text": [
      "0.07425742574257425\n",
      "0.014134275618374558\n",
      "0.03608247422680412\n",
      "0.013513513513513514\n",
      "0.04790419161676647\n"
     ]
    },
    {
     "name": "stderr",
     "output_type": "stream",
     "text": [
      "     100%|==================================================| 45/45 [00:00<00:00, 93.10it/s] \n",
      "       0%|                                                  | 0/45 [00:00<?, ?it/s]"
     ]
    },
    {
     "name": "stdout",
     "output_type": "stream",
     "text": [
      "0.04390243902439024\n",
      "0.06334841628959276\n",
      "0.0165016501650165\n",
      "0.014783526927138331\n",
      "0.03180212014134275\n",
      "0.0535279805352798\n",
      "0.04338394793926247\n"
     ]
    },
    {
     "name": "stderr",
     "output_type": "stream",
     "text": [
      "\r",
      "      16%|=======>                                          | 7/45 [00:00<00:00, 67.79it/s]"
     ]
    },
    {
     "name": "stdout",
     "output_type": "stream",
     "text": [
      "0.015082956259426848\n",
      "0.04481792717086835\n",
      "0.014787430683918669\n",
      "0.056338028169014086\n",
      "0.04081632653061224\n",
      "0.0514018691588785\n",
      "0.05\n"
     ]
    },
    {
     "name": "stderr",
     "output_type": "stream",
     "text": [
      "\r",
      "      31%|===============>                                  | 14/45 [00:00<00:00, 66.51it/s]"
     ]
    },
    {
     "name": "stdout",
     "output_type": "stream",
     "text": [
      "0.057649667405764965\n",
      "0.038781163434903045\n",
      "0.021052631578947368\n",
      "0.0\n",
      "0.0\n",
      "0.03773584905660377\n",
      "0.04807692307692308\n",
      "0.025\n",
      "0.0\n",
      "0.0\n",
      "0.03773584905660377\n"
     ]
    },
    {
     "name": "stderr",
     "output_type": "stream",
     "text": [
      "\r",
      "      56%|===========================>                      | 25/45 [00:00<00:00, 85.04it/s]"
     ]
    },
    {
     "name": "stdout",
     "output_type": "stream",
     "text": [
      "0.0\n",
      "0.0\n",
      "0.01929260450160772\n",
      "0.0\n",
      "0.0\n",
      "0.0110803324099723\n",
      "0.034653465346534656\n",
      "0.0\n",
      "0.0\n",
      "0.029411764705882353\n",
      "0.014265335235378032\n",
      "0.043333333333333335\n",
      "0.03115264797507788\n",
      "0.07202216066481995\n"
     ]
    },
    {
     "name": "stderr",
     "output_type": "stream",
     "text": [
      "\r",
      "      87%|===========================================       | 39/45 [00:00<00:00, 105.18it/s]"
     ]
    },
    {
     "name": "stdout",
     "output_type": "stream",
     "text": [
      "0.058823529411764705\n",
      "0.07425742574257425\n",
      "0.014134275618374558\n",
      "0.03608247422680412\n",
      "0.013513513513513514\n",
      "0.04790419161676647\n"
     ]
    },
    {
     "name": "stderr",
     "output_type": "stream",
     "text": [
      "     100%|==================================================| 45/45 [00:00<00:00, 91.69it/s] \n",
      "       0%|                                                  | 0/45 [00:00<?, ?it/s]"
     ]
    },
    {
     "name": "stdout",
     "output_type": "stream",
     "text": [
      "0.04390243902439024\n",
      "0.06334841628959276\n",
      "0.0165016501650165\n",
      "0.014783526927138331\n",
      "0.03180212014134275\n",
      "0.0535279805352798\n",
      "0.04338394793926247\n",
      "0.015082956259426848\n"
     ]
    },
    {
     "name": "stderr",
     "output_type": "stream",
     "text": [
      "\r",
      "      18%|========>                                         | 8/45 [00:00<00:00, 75.34it/s]"
     ]
    },
    {
     "name": "stdout",
     "output_type": "stream",
     "text": [
      "0.04481792717086835\n",
      "0.014787430683918669\n",
      "0.056338028169014086\n",
      "0.04081632653061224\n",
      "0.0514018691588785\n",
      "0.05\n",
      "0.057649667405764965\n",
      "0.038781163434903045\n"
     ]
    },
    {
     "name": "stderr",
     "output_type": "stream",
     "text": [
      "\r",
      "      36%|=================>                                | 16/45 [00:00<00:00, 64.56it/s]"
     ]
    },
    {
     "name": "stdout",
     "output_type": "stream",
     "text": [
      "0.021052631578947368\n",
      "0.0\n",
      "0.0\n",
      "0.03773584905660377\n",
      "0.04807692307692308\n",
      "0.025\n",
      "0.0\n",
      "0.0\n",
      "0.03773584905660377\n",
      "0.0\n",
      "0.0\n",
      "0.01929260450160772\n",
      "0.0\n",
      "0.0\n",
      "0.0110803324099723\n",
      "0.034653465346534656\n",
      "0.0\n",
      "0.0\n"
     ]
    },
    {
     "name": "stderr",
     "output_type": "stream",
     "text": [
      "\r",
      "      76%|=====================================>            | 34/45 [00:00<00:00, 111.16it/s]"
     ]
    },
    {
     "name": "stdout",
     "output_type": "stream",
     "text": [
      "0.029411764705882353\n",
      "0.014265335235378032\n",
      "0.043333333333333335\n",
      "0.03115264797507788\n",
      "0.07202216066481995\n",
      "0.058823529411764705\n",
      "0.07425742574257425\n",
      "0.014134275618374558\n",
      "0.03608247422680412\n",
      "0.013513513513513514\n",
      "0.04790419161676647\n"
     ]
    },
    {
     "name": "stderr",
     "output_type": "stream",
     "text": [
      "     100%|==================================================| 45/45 [00:00<00:00, 95.24it/s] \n",
      "       0%|                                                  | 0/45 [00:00<?, ?it/s]"
     ]
    },
    {
     "name": "stdout",
     "output_type": "stream",
     "text": [
      "0.04390243902439024\n",
      "0.06334841628959276\n",
      "0.0165016501650165\n",
      "0.014783526927138331\n",
      "0.03180212014134275\n",
      "0.0535279805352798\n",
      "0.04338394793926247\n",
      "0.015082956259426848\n"
     ]
    },
    {
     "name": "stderr",
     "output_type": "stream",
     "text": [
      "\r",
      "      18%|========>                                         | 8/45 [00:00<00:00, 75.57it/s]"
     ]
    },
    {
     "name": "stdout",
     "output_type": "stream",
     "text": [
      "0.04481792717086835\n",
      "0.014787430683918669\n",
      "0.056338028169014086\n",
      "0.04081632653061224\n",
      "0.0514018691588785\n",
      "0.05\n",
      "0.057649667405764965\n",
      "0.038781163434903045\n"
     ]
    },
    {
     "name": "stderr",
     "output_type": "stream",
     "text": [
      "\r",
      "      36%|=================>                                | 16/45 [00:00<00:00, 66.46it/s]"
     ]
    },
    {
     "name": "stdout",
     "output_type": "stream",
     "text": [
      "0.021052631578947368\n",
      "0.0\n",
      "0.0\n",
      "0.03773584905660377\n",
      "0.04807692307692308\n",
      "0.025\n",
      "0.0\n",
      "0.0\n",
      "0.03773584905660377\n",
      "0.0\n",
      "0.0\n",
      "0.01929260450160772\n",
      "0.0\n",
      "0.0\n",
      "0.0110803324099723\n",
      "0.034653465346534656\n"
     ]
    },
    {
     "name": "stderr",
     "output_type": "stream",
     "text": [
      "\r",
      "      71%|===================================>              | 32/45 [00:00<00:00, 103.97it/s]"
     ]
    },
    {
     "name": "stdout",
     "output_type": "stream",
     "text": [
      "0.0\n",
      "0.0\n",
      "0.029411764705882353\n",
      "0.014265335235378032\n",
      "0.043333333333333335\n",
      "0.03115264797507788\n",
      "0.07202216066481995\n",
      "0.058823529411764705\n",
      "0.07425742574257425\n",
      "0.014134275618374558\n",
      "0.03608247422680412\n"
     ]
    },
    {
     "name": "stderr",
     "output_type": "stream",
     "text": [
      "\r",
      "      96%|===============================================>  | 43/45 [00:00<00:00, 100.74it/s]"
     ]
    },
    {
     "name": "stdout",
     "output_type": "stream",
     "text": [
      "0.013513513513513514\n",
      "0.04790419161676647\n"
     ]
    },
    {
     "name": "stderr",
     "output_type": "stream",
     "text": [
      "     100%|==================================================| 45/45 [00:00<00:00, 95.58it/s] \n",
      "       0%|                                                  | 0/45 [00:00<?, ?it/s]"
     ]
    },
    {
     "name": "stdout",
     "output_type": "stream",
     "text": [
      "0.04390243902439024\n",
      "0.06334841628959276\n",
      "0.0165016501650165\n",
      "0.014783526927138331\n",
      "0.03180212014134275\n",
      "0.0535279805352798\n",
      "0.04338394793926247\n"
     ]
    },
    {
     "name": "stderr",
     "output_type": "stream",
     "text": [
      "\r",
      "      16%|=======>                                          | 7/45 [00:00<00:00, 65.66it/s]"
     ]
    },
    {
     "name": "stdout",
     "output_type": "stream",
     "text": [
      "0.015082956259426848\n",
      "0.04481792717086835\n",
      "0.014787430683918669\n",
      "0.056338028169014086\n",
      "0.04081632653061224\n",
      "0.0514018691588785\n",
      "0.05\n"
     ]
    },
    {
     "name": "stderr",
     "output_type": "stream",
     "text": [
      "\r",
      "      31%|===============>                                  | 14/45 [00:00<00:00, 64.33it/s]"
     ]
    },
    {
     "name": "stdout",
     "output_type": "stream",
     "text": [
      "0.057649667405764965\n",
      "0.038781163434903045\n",
      "0.021052631578947368\n",
      "0.0\n",
      "0.0\n",
      "0.03773584905660377\n",
      "0.04807692307692308\n",
      "0.025\n",
      "0.0\n",
      "0.0\n",
      "0.03773584905660377\n"
     ]
    },
    {
     "name": "stderr",
     "output_type": "stream",
     "text": [
      "\r",
      "      56%|===========================>                      | 25/45 [00:00<00:00, 83.65it/s]"
     ]
    },
    {
     "name": "stdout",
     "output_type": "stream",
     "text": [
      "0.0\n",
      "0.0\n",
      "0.01929260450160772\n",
      "0.0\n",
      "0.0\n",
      "0.0110803324099723\n",
      "0.034653465346534656\n",
      "0.0\n",
      "0.0\n",
      "0.029411764705882353\n",
      "0.014265335235378032\n",
      "0.043333333333333335\n",
      "0.03115264797507788\n",
      "0.07202216066481995\n"
     ]
    },
    {
     "name": "stderr",
     "output_type": "stream",
     "text": [
      "\r",
      "      87%|===========================================       | 39/45 [00:00<00:00, 104.32it/s]"
     ]
    },
    {
     "name": "stdout",
     "output_type": "stream",
     "text": [
      "0.058823529411764705\n",
      "0.07425742574257425\n",
      "0.014134275618374558\n",
      "0.03608247422680412\n",
      "0.013513513513513514\n",
      "0.04790419161676647\n"
     ]
    },
    {
     "name": "stderr",
     "output_type": "stream",
     "text": [
      "     100%|==================================================| 45/45 [00:00<00:00, 91.49it/s] \n",
      "       0%|                                                  | 0/45 [00:00<?, ?it/s]"
     ]
    },
    {
     "name": "stdout",
     "output_type": "stream",
     "text": [
      "0.04390243902439024\n",
      "0.06334841628959276\n",
      "0.0165016501650165\n",
      "0.014783526927138331\n",
      "0.03180212014134275\n",
      "0.0535279805352798\n",
      "0.04338394793926247\n"
     ]
    },
    {
     "name": "stderr",
     "output_type": "stream",
     "text": [
      "\r",
      "      16%|=======>                                          | 7/45 [00:00<00:00, 65.48it/s]"
     ]
    },
    {
     "name": "stdout",
     "output_type": "stream",
     "text": [
      "0.015082956259426848\n",
      "0.04481792717086835\n",
      "0.014787430683918669\n",
      "0.056338028169014086\n",
      "0.04081632653061224\n",
      "0.0514018691588785\n",
      "0.05\n"
     ]
    },
    {
     "name": "stderr",
     "output_type": "stream",
     "text": [
      "\r",
      "      31%|===============>                                  | 14/45 [00:00<00:00, 65.20it/s]"
     ]
    },
    {
     "name": "stdout",
     "output_type": "stream",
     "text": [
      "0.057649667405764965\n",
      "0.038781163434903045\n",
      "0.021052631578947368\n",
      "0.0\n",
      "0.0\n",
      "0.03773584905660377\n",
      "0.04807692307692308\n",
      "0.025\n",
      "0.0\n",
      "0.0\n",
      "0.03773584905660377\n",
      "0.0\n",
      "0.0\n",
      "0.01929260450160772\n"
     ]
    },
    {
     "name": "stderr",
     "output_type": "stream",
     "text": [
      "\r",
      "      62%|===============================                   | 28/45 [00:00<00:00, 95.46it/s]"
     ]
    },
    {
     "name": "stdout",
     "output_type": "stream",
     "text": [
      "0.0\n",
      "0.0\n",
      "0.0110803324099723\n",
      "0.034653465346534656\n",
      "0.0\n",
      "0.0\n",
      "0.029411764705882353\n",
      "0.014265335235378032\n",
      "0.043333333333333335\n",
      "0.03115264797507788\n",
      "0.07202216066481995\n",
      "0.058823529411764705\n"
     ]
    },
    {
     "name": "stderr",
     "output_type": "stream",
     "text": [
      "\r",
      "      89%|============================================      | 40/45 [00:00<00:00, 104.31it/s]"
     ]
    },
    {
     "name": "stdout",
     "output_type": "stream",
     "text": [
      "0.07425742574257425\n",
      "0.014134275618374558\n",
      "0.03608247422680412\n",
      "0.013513513513513514\n",
      "0.04790419161676647\n"
     ]
    },
    {
     "name": "stderr",
     "output_type": "stream",
     "text": [
      "     100%|==================================================| 45/45 [00:00<00:00, 94.19it/s] \n",
      "       0%|                                                  | 0/45 [00:00<?, ?it/s]"
     ]
    },
    {
     "name": "stdout",
     "output_type": "stream",
     "text": [
      "0.04390243902439024\n",
      "0.06334841628959276\n",
      "0.0165016501650165\n",
      "0.014783526927138331\n",
      "0.03180212014134275\n",
      "0.0535279805352798\n",
      "0.04338394793926247\n"
     ]
    },
    {
     "name": "stderr",
     "output_type": "stream",
     "text": [
      "\r",
      "      16%|=======>                                          | 7/45 [00:00<00:00, 69.96it/s]"
     ]
    },
    {
     "name": "stdout",
     "output_type": "stream",
     "text": [
      "0.015082956259426848\n",
      "0.04481792717086835\n",
      "0.014787430683918669\n",
      "0.056338028169014086\n",
      "0.04081632653061224\n",
      "0.0514018691588785\n",
      "0.05\n"
     ]
    },
    {
     "name": "stderr",
     "output_type": "stream",
     "text": [
      "\r",
      "      31%|===============>                                  | 14/45 [00:00<00:00, 66.26it/s]"
     ]
    },
    {
     "name": "stdout",
     "output_type": "stream",
     "text": [
      "0.057649667405764965\n",
      "0.038781163434903045\n",
      "0.021052631578947368\n",
      "0.0\n",
      "0.0\n",
      "0.03773584905660377\n",
      "0.04807692307692308\n",
      "0.025\n",
      "0.0\n",
      "0.0\n",
      "0.03773584905660377\n"
     ]
    },
    {
     "name": "stderr",
     "output_type": "stream",
     "text": [
      "\r",
      "      56%|===========================>                      | 25/45 [00:00<00:00, 85.59it/s]"
     ]
    },
    {
     "name": "stdout",
     "output_type": "stream",
     "text": [
      "0.0\n",
      "0.0\n",
      "0.01929260450160772\n",
      "0.0\n",
      "0.0\n",
      "0.0110803324099723\n",
      "0.034653465346534656\n",
      "0.0\n",
      "0.0\n",
      "0.029411764705882353\n",
      "0.014265335235378032\n",
      "0.043333333333333335\n",
      "0.03115264797507788\n",
      "0.07202216066481995\n"
     ]
    },
    {
     "name": "stderr",
     "output_type": "stream",
     "text": [
      "\r",
      "      87%|===========================================       | 39/45 [00:00<00:00, 104.34it/s]"
     ]
    },
    {
     "name": "stdout",
     "output_type": "stream",
     "text": [
      "0.058823529411764705\n",
      "0.07425742574257425\n",
      "0.014134275618374558\n",
      "0.03608247422680412\n",
      "0.013513513513513514\n",
      "0.04790419161676647\n"
     ]
    },
    {
     "name": "stderr",
     "output_type": "stream",
     "text": [
      "     100%|==================================================| 45/45 [00:00<00:00, 92.55it/s] \n",
      "       0%|                                                  | 0/45 [00:00<?, ?it/s]"
     ]
    },
    {
     "name": "stdout",
     "output_type": "stream",
     "text": [
      "0.04390243902439024\n",
      "0.06334841628959276\n",
      "0.0165016501650165\n",
      "0.014783526927138331\n",
      "0.03180212014134275\n",
      "0.0535279805352798\n",
      "0.04338394793926247\n"
     ]
    },
    {
     "name": "stderr",
     "output_type": "stream",
     "text": [
      "\r",
      "      16%|=======>                                          | 7/45 [00:00<00:00, 68.90it/s]"
     ]
    },
    {
     "name": "stdout",
     "output_type": "stream",
     "text": [
      "0.015082956259426848\n",
      "0.04481792717086835\n",
      "0.014787430683918669\n",
      "0.056338028169014086\n",
      "0.04081632653061224\n",
      "0.0514018691588785\n",
      "0.05\n"
     ]
    },
    {
     "name": "stderr",
     "output_type": "stream",
     "text": [
      "\r",
      "      31%|===============>                                  | 14/45 [00:00<00:00, 66.79it/s]"
     ]
    },
    {
     "name": "stdout",
     "output_type": "stream",
     "text": [
      "0.057649667405764965\n",
      "0.038781163434903045\n",
      "0.021052631578947368\n",
      "0.0\n",
      "0.0\n",
      "0.03773584905660377\n",
      "0.04807692307692308\n",
      "0.025\n",
      "0.0\n",
      "0.0\n",
      "0.03773584905660377\n",
      "0.0\n",
      "0.0\n",
      "0.01929260450160772\n"
     ]
    },
    {
     "name": "stderr",
     "output_type": "stream",
     "text": [
      "\r",
      "      62%|===============================                   | 28/45 [00:00<00:00, 95.42it/s]"
     ]
    },
    {
     "name": "stdout",
     "output_type": "stream",
     "text": [
      "0.0\n",
      "0.0\n",
      "0.0110803324099723\n",
      "0.034653465346534656\n",
      "0.0\n",
      "0.0\n",
      "0.029411764705882353\n",
      "0.014265335235378032\n",
      "0.043333333333333335\n",
      "0.03115264797507788\n",
      "0.07202216066481995\n",
      "0.058823529411764705\n"
     ]
    },
    {
     "name": "stderr",
     "output_type": "stream",
     "text": [
      "\r",
      "      89%|============================================      | 40/45 [00:00<00:00, 103.84it/s]"
     ]
    },
    {
     "name": "stdout",
     "output_type": "stream",
     "text": [
      "0.07425742574257425\n",
      "0.014134275618374558\n",
      "0.03608247422680412\n",
      "0.013513513513513514\n",
      "0.04790419161676647\n"
     ]
    },
    {
     "name": "stderr",
     "output_type": "stream",
     "text": [
      "     100%|==================================================| 45/45 [00:00<00:00, 94.51it/s] \n",
      "       0%|                                                  | 0/45 [00:00<?, ?it/s]"
     ]
    },
    {
     "name": "stdout",
     "output_type": "stream",
     "text": [
      "0.04390243902439024\n",
      "0.06334841628959276\n",
      "0.0165016501650165\n",
      "0.014783526927138331\n",
      "0.03180212014134275\n",
      "0.0535279805352798\n",
      "0.04338394793926247\n"
     ]
    },
    {
     "name": "stderr",
     "output_type": "stream",
     "text": [
      "\r",
      "      16%|=======>                                          | 7/45 [00:00<00:00, 66.90it/s]"
     ]
    },
    {
     "name": "stdout",
     "output_type": "stream",
     "text": [
      "0.015082956259426848\n",
      "0.04481792717086835\n",
      "0.014787430683918669\n",
      "0.056338028169014086\n",
      "0.04081632653061224\n",
      "0.0514018691588785\n",
      "0.05\n"
     ]
    },
    {
     "name": "stderr",
     "output_type": "stream",
     "text": [
      "\r",
      "      31%|===============>                                  | 14/45 [00:00<00:00, 61.78it/s]"
     ]
    },
    {
     "name": "stdout",
     "output_type": "stream",
     "text": [
      "0.057649667405764965\n",
      "0.038781163434903045\n",
      "0.021052631578947368\n",
      "0.0\n",
      "0.0\n",
      "0.03773584905660377\n",
      "0.04807692307692308\n",
      "0.025\n",
      "0.0\n",
      "0.0\n",
      "0.03773584905660377\n"
     ]
    },
    {
     "name": "stderr",
     "output_type": "stream",
     "text": [
      "\r",
      "      56%|===========================>                      | 25/45 [00:00<00:00, 80.77it/s]"
     ]
    },
    {
     "name": "stdout",
     "output_type": "stream",
     "text": [
      "0.0\n",
      "0.0\n",
      "0.01929260450160772\n",
      "0.0\n",
      "0.0\n",
      "0.0110803324099723\n",
      "0.034653465346534656\n",
      "0.0\n",
      "0.0\n",
      "0.029411764705882353\n",
      "0.014265335235378032\n",
      "0.043333333333333335\n",
      "0.03115264797507788\n",
      "0.07202216066481995\n"
     ]
    },
    {
     "name": "stderr",
     "output_type": "stream",
     "text": [
      "\r",
      "      87%|===========================================       | 39/45 [00:00<00:00, 102.67it/s]"
     ]
    },
    {
     "name": "stdout",
     "output_type": "stream",
     "text": [
      "0.058823529411764705\n",
      "0.07425742574257425\n",
      "0.014134275618374558\n",
      "0.03608247422680412\n",
      "0.013513513513513514\n",
      "0.04790419161676647\n"
     ]
    },
    {
     "name": "stderr",
     "output_type": "stream",
     "text": [
      "     100%|==================================================| 45/45 [00:00<00:00, 88.49it/s] \n",
      "       0%|                                                  | 0/45 [00:00<?, ?it/s]"
     ]
    },
    {
     "name": "stdout",
     "output_type": "stream",
     "text": [
      "0.04390243902439024\n",
      "0.06334841628959276\n",
      "0.0165016501650165\n",
      "0.014783526927138331\n",
      "0.03180212014134275\n",
      "0.0535279805352798\n",
      "0.04338394793926247\n"
     ]
    },
    {
     "name": "stderr",
     "output_type": "stream",
     "text": [
      "\r",
      "      16%|=======>                                          | 7/45 [00:00<00:00, 67.48it/s]"
     ]
    },
    {
     "name": "stdout",
     "output_type": "stream",
     "text": [
      "0.015082956259426848\n",
      "0.04481792717086835\n",
      "0.014787430683918669\n",
      "0.056338028169014086\n",
      "0.04081632653061224\n",
      "0.0514018691588785\n",
      "0.05\n"
     ]
    },
    {
     "name": "stderr",
     "output_type": "stream",
     "text": [
      "\r",
      "      31%|===============>                                  | 14/45 [00:00<00:00, 66.20it/s]"
     ]
    },
    {
     "name": "stdout",
     "output_type": "stream",
     "text": [
      "0.057649667405764965\n",
      "0.038781163434903045\n",
      "0.021052631578947368\n",
      "0.0\n",
      "0.0\n",
      "0.03773584905660377\n",
      "0.04807692307692308\n",
      "0.025\n",
      "0.0\n",
      "0.0\n",
      "0.03773584905660377\n"
     ]
    },
    {
     "name": "stderr",
     "output_type": "stream",
     "text": [
      "\r",
      "      56%|===========================>                      | 25/45 [00:00<00:00, 82.92it/s]"
     ]
    },
    {
     "name": "stdout",
     "output_type": "stream",
     "text": [
      "0.0\n",
      "0.0\n",
      "0.01929260450160772\n",
      "0.0\n",
      "0.0\n",
      "0.0110803324099723\n",
      "0.034653465346534656\n",
      "0.0\n",
      "0.0\n",
      "0.029411764705882353\n",
      "0.014265335235378032\n",
      "0.043333333333333335\n",
      "0.03115264797507788\n",
      "0.07202216066481995\n",
      "0.058823529411764705\n"
     ]
    },
    {
     "name": "stderr",
     "output_type": "stream",
     "text": [
      "\r",
      "      89%|============================================      | 40/45 [00:00<00:00, 104.42it/s]"
     ]
    },
    {
     "name": "stdout",
     "output_type": "stream",
     "text": [
      "0.07425742574257425\n",
      "0.014134275618374558\n",
      "0.03608247422680412\n",
      "0.013513513513513514\n",
      "0.04790419161676647\n"
     ]
    },
    {
     "name": "stderr",
     "output_type": "stream",
     "text": [
      "     100%|==================================================| 45/45 [00:00<00:00, 92.86it/s] \n",
      "       0%|                                                  | 0/45 [00:00<?, ?it/s]"
     ]
    },
    {
     "name": "stdout",
     "output_type": "stream",
     "text": [
      "0.04390243902439024\n",
      "0.06334841628959276\n",
      "0.0165016501650165\n",
      "0.014783526927138331\n",
      "0.03180212014134275\n",
      "0.0535279805352798\n",
      "0.04338394793926247\n",
      "0.015082956259426848\n"
     ]
    },
    {
     "name": "stderr",
     "output_type": "stream",
     "text": [
      "\r",
      "      18%|========>                                         | 8/45 [00:00<00:00, 75.31it/s]"
     ]
    },
    {
     "name": "stdout",
     "output_type": "stream",
     "text": [
      "0.04481792717086835\n",
      "0.014787430683918669\n",
      "0.056338028169014086\n",
      "0.04081632653061224\n",
      "0.0514018691588785\n",
      "0.05\n",
      "0.057649667405764965\n",
      "0.038781163434903045\n"
     ]
    },
    {
     "name": "stderr",
     "output_type": "stream",
     "text": [
      "\r",
      "      36%|=================>                                | 16/45 [00:00<00:00, 65.38it/s]"
     ]
    },
    {
     "name": "stdout",
     "output_type": "stream",
     "text": [
      "0.021052631578947368\n",
      "0.0\n",
      "0.0\n",
      "0.03773584905660377\n",
      "0.04807692307692308\n",
      "0.025\n",
      "0.0\n",
      "0.0\n",
      "0.03773584905660377\n",
      "0.0\n",
      "0.0\n",
      "0.01929260450160772\n",
      "0.0\n",
      "0.0\n",
      "0.0110803324099723\n",
      "0.034653465346534656\n"
     ]
    },
    {
     "name": "stderr",
     "output_type": "stream",
     "text": [
      "\r",
      "      71%|===================================>              | 32/45 [00:00<00:00, 101.62it/s]"
     ]
    },
    {
     "name": "stdout",
     "output_type": "stream",
     "text": [
      "0.0\n",
      "0.0\n",
      "0.029411764705882353\n",
      "0.014265335235378032\n",
      "0.043333333333333335\n",
      "0.03115264797507788\n",
      "0.07202216066481995\n",
      "0.058823529411764705\n",
      "0.07425742574257425\n",
      "0.014134275618374558\n",
      "0.03608247422680412\n"
     ]
    },
    {
     "name": "stderr",
     "output_type": "stream",
     "text": [
      "\r",
      "      96%|===============================================>  | 43/45 [00:00<00:00, 98.99it/s] "
     ]
    },
    {
     "name": "stdout",
     "output_type": "stream",
     "text": [
      "0.013513513513513514\n",
      "0.04790419161676647\n"
     ]
    },
    {
     "name": "stderr",
     "output_type": "stream",
     "text": [
      "     100%|==================================================| 45/45 [00:00<00:00, 93.83it/s]\n",
      "       0%|                                                  | 0/45 [00:00<?, ?it/s]"
     ]
    },
    {
     "name": "stdout",
     "output_type": "stream",
     "text": [
      "0.04390243902439024\n",
      "0.06334841628959276\n",
      "0.0165016501650165\n",
      "0.014783526927138331\n",
      "0.03180212014134275\n",
      "0.0535279805352798\n",
      "0.04338394793926247\n"
     ]
    },
    {
     "name": "stderr",
     "output_type": "stream",
     "text": [
      "\r",
      "      16%|=======>                                          | 7/45 [00:00<00:00, 68.24it/s]"
     ]
    },
    {
     "name": "stdout",
     "output_type": "stream",
     "text": [
      "0.015082956259426848\n",
      "0.04481792717086835\n",
      "0.014787430683918669\n",
      "0.056338028169014086\n",
      "0.04081632653061224\n",
      "0.0514018691588785\n",
      "0.05\n"
     ]
    },
    {
     "name": "stderr",
     "output_type": "stream",
     "text": [
      "\r",
      "      31%|===============>                                  | 14/45 [00:00<00:00, 65.69it/s]"
     ]
    },
    {
     "name": "stdout",
     "output_type": "stream",
     "text": [
      "0.057649667405764965\n",
      "0.038781163434903045\n",
      "0.021052631578947368\n",
      "0.0\n",
      "0.0\n",
      "0.03773584905660377\n",
      "0.04807692307692308\n",
      "0.025\n",
      "0.0\n",
      "0.0\n",
      "0.03773584905660377\n"
     ]
    },
    {
     "name": "stderr",
     "output_type": "stream",
     "text": [
      "\r",
      "      56%|===========================>                      | 25/45 [00:00<00:00, 84.67it/s]"
     ]
    },
    {
     "name": "stdout",
     "output_type": "stream",
     "text": [
      "0.0\n",
      "0.0\n",
      "0.01929260450160772\n",
      "0.0\n",
      "0.0\n",
      "0.0110803324099723\n",
      "0.034653465346534656\n",
      "0.0\n",
      "0.0\n",
      "0.029411764705882353\n",
      "0.014265335235378032\n",
      "0.043333333333333335\n",
      "0.03115264797507788\n",
      "0.07202216066481995\n"
     ]
    },
    {
     "name": "stderr",
     "output_type": "stream",
     "text": [
      "\r",
      "      87%|===========================================       | 39/45 [00:00<00:00, 104.42it/s]"
     ]
    },
    {
     "name": "stdout",
     "output_type": "stream",
     "text": [
      "0.058823529411764705\n",
      "0.07425742574257425\n",
      "0.014134275618374558\n",
      "0.03608247422680412\n",
      "0.013513513513513514\n",
      "0.04790419161676647\n"
     ]
    },
    {
     "name": "stderr",
     "output_type": "stream",
     "text": [
      "     100%|==================================================| 45/45 [00:00<00:00, 92.11it/s] \n",
      "       0%|                                                  | 0/45 [00:00<?, ?it/s]"
     ]
    },
    {
     "name": "stdout",
     "output_type": "stream",
     "text": [
      "0.04390243902439024\n",
      "0.06334841628959276\n",
      "0.0165016501650165\n",
      "0.014783526927138331\n",
      "0.03180212014134275\n",
      "0.0535279805352798\n",
      "0.04338394793926247\n"
     ]
    },
    {
     "name": "stderr",
     "output_type": "stream",
     "text": [
      "\r",
      "      16%|=======>                                          | 7/45 [00:00<00:00, 66.77it/s]"
     ]
    },
    {
     "name": "stdout",
     "output_type": "stream",
     "text": [
      "0.015082956259426848\n",
      "0.04481792717086835\n",
      "0.014787430683918669\n",
      "0.056338028169014086\n",
      "0.04081632653061224\n",
      "0.0514018691588785\n",
      "0.05\n"
     ]
    },
    {
     "name": "stderr",
     "output_type": "stream",
     "text": [
      "\r",
      "      31%|===============>                                  | 14/45 [00:00<00:00, 64.70it/s]"
     ]
    },
    {
     "name": "stdout",
     "output_type": "stream",
     "text": [
      "0.057649667405764965\n",
      "0.038781163434903045\n",
      "0.021052631578947368\n",
      "0.0\n",
      "0.0\n",
      "0.03773584905660377\n",
      "0.04807692307692308\n",
      "0.025\n",
      "0.0\n",
      "0.0\n"
     ]
    }
   ],
   "source": [
    "ML = D1LP(corpora[:50],y_train[:50])\n",
    "\n",
    "preds = []\n",
    "for i,j in enumerate(ultra[:10]):\n",
    "    pred = []\n",
    "    for s in range(len(ultra[i])):\n",
    "        pred.append(ML.classify(j))\n",
    "    preds.append(pred)\n",
    "preds"
   ]
  },
  {
   "cell_type": "code",
   "execution_count": 16,
   "id": "922dadbf",
   "metadata": {},
   "outputs": [
    {
     "data": {
      "text/plain": [
       "[array([1260,  765]),\n",
       " array([648, 648]),\n",
       " array([ 987, 1222]),\n",
       " array([348, 493]),\n",
       " array([1200,  400]),\n",
       " array([512, 512]),\n",
       " array([714, 442]),\n",
       " array([570, 874]),\n",
       " array([2516, 2108]),\n",
       " array([351, 378])]"
      ]
     },
     "execution_count": 16,
     "metadata": {},
     "output_type": "execute_result"
    }
   ],
   "source": [
    "from collections import Counter\n",
    "prds = []\n",
    "for i in preds:\n",
    "    unique, frequency = np.unique(i,\n",
    "                              return_counts = True)\n",
    "    prds.append(frequency)\n",
    "prds"
   ]
  },
  {
   "cell_type": "code",
   "execution_count": 19,
   "id": "58c073e4",
   "metadata": {
    "scrolled": false
   },
   "outputs": [
    {
     "name": "stdout",
     "output_type": "stream",
     "text": [
      "Testing set\n",
      "VV_______VV\n"
     ]
    },
    {
     "ename": "<class 'ValueError'>",
     "evalue": "Found input variables with inconsistent numbers of samples: [600, 10]",
     "output_type": "error",
     "traceback": [
      "\u001b[0;31m---------------------------------------------------------------------------\u001b[0m",
      "\u001b[0;31mValueError\u001b[0m                                Traceback (most recent call last)",
      "Cell \u001b[0;32mIn[19], line 4\u001b[0m\n\u001b[1;32m      2\u001b[0m \u001b[38;5;28mprint\u001b[39m(\u001b[38;5;124m'\u001b[39m\u001b[38;5;124mTesting set\u001b[39m\u001b[38;5;124m'\u001b[39m)\n\u001b[1;32m      3\u001b[0m \u001b[38;5;28mprint\u001b[39m(\u001b[38;5;124m'\u001b[39m\u001b[38;5;124mVV_______VV\u001b[39m\u001b[38;5;124m'\u001b[39m)\n\u001b[0;32m----> 4\u001b[0m \u001b[38;5;28mprint\u001b[39m(\u001b[43mclassification_report\u001b[49m\u001b[43m(\u001b[49m\u001b[43my_test\u001b[49m\u001b[43m,\u001b[49m\u001b[43m \u001b[49m\u001b[43mpreds\u001b[49m\u001b[43m)\u001b[49m)\n\u001b[1;32m      7\u001b[0m \u001b[38;5;66;03m# test: confusion matrix\u001b[39;00m\n\u001b[1;32m      8\u001b[0m cf_matrix \u001b[38;5;241m=\u001b[39m confusion_matrix(y_test, preds)\n",
      "File \u001b[0;32m~/.local/lib/python3.11/site-packages/sklearn/utils/_param_validation.py:211\u001b[0m, in \u001b[0;36mvalidate_params.<locals>.decorator.<locals>.wrapper\u001b[0;34m(*args, **kwargs)\u001b[0m\n\u001b[1;32m    205\u001b[0m \u001b[38;5;28;01mtry\u001b[39;00m:\n\u001b[1;32m    206\u001b[0m     \u001b[38;5;28;01mwith\u001b[39;00m config_context(\n\u001b[1;32m    207\u001b[0m         skip_parameter_validation\u001b[38;5;241m=\u001b[39m(\n\u001b[1;32m    208\u001b[0m             prefer_skip_nested_validation \u001b[38;5;129;01mor\u001b[39;00m global_skip_validation\n\u001b[1;32m    209\u001b[0m         )\n\u001b[1;32m    210\u001b[0m     ):\n\u001b[0;32m--> 211\u001b[0m         \u001b[38;5;28;01mreturn\u001b[39;00m \u001b[43mfunc\u001b[49m\u001b[43m(\u001b[49m\u001b[38;5;241;43m*\u001b[39;49m\u001b[43margs\u001b[49m\u001b[43m,\u001b[49m\u001b[43m \u001b[49m\u001b[38;5;241;43m*\u001b[39;49m\u001b[38;5;241;43m*\u001b[39;49m\u001b[43mkwargs\u001b[49m\u001b[43m)\u001b[49m\n\u001b[1;32m    212\u001b[0m \u001b[38;5;28;01mexcept\u001b[39;00m InvalidParameterError \u001b[38;5;28;01mas\u001b[39;00m e:\n\u001b[1;32m    213\u001b[0m     \u001b[38;5;66;03m# When the function is just a wrapper around an estimator, we allow\u001b[39;00m\n\u001b[1;32m    214\u001b[0m     \u001b[38;5;66;03m# the function to delegate validation to the estimator, but we replace\u001b[39;00m\n\u001b[1;32m    215\u001b[0m     \u001b[38;5;66;03m# the name of the estimator by the name of the function in the error\u001b[39;00m\n\u001b[1;32m    216\u001b[0m     \u001b[38;5;66;03m# message to avoid confusion.\u001b[39;00m\n\u001b[1;32m    217\u001b[0m     msg \u001b[38;5;241m=\u001b[39m re\u001b[38;5;241m.\u001b[39msub(\n\u001b[1;32m    218\u001b[0m         \u001b[38;5;124mr\u001b[39m\u001b[38;5;124m\"\u001b[39m\u001b[38;5;124mparameter of \u001b[39m\u001b[38;5;124m\\\u001b[39m\u001b[38;5;124mw+ must be\u001b[39m\u001b[38;5;124m\"\u001b[39m,\n\u001b[1;32m    219\u001b[0m         \u001b[38;5;124mf\u001b[39m\u001b[38;5;124m\"\u001b[39m\u001b[38;5;124mparameter of \u001b[39m\u001b[38;5;132;01m{\u001b[39;00mfunc\u001b[38;5;241m.\u001b[39m\u001b[38;5;18m__qualname__\u001b[39m\u001b[38;5;132;01m}\u001b[39;00m\u001b[38;5;124m must be\u001b[39m\u001b[38;5;124m\"\u001b[39m,\n\u001b[1;32m    220\u001b[0m         \u001b[38;5;28mstr\u001b[39m(e),\n\u001b[1;32m    221\u001b[0m     )\n",
      "File \u001b[0;32m~/.local/lib/python3.11/site-packages/sklearn/metrics/_classification.py:2539\u001b[0m, in \u001b[0;36mclassification_report\u001b[0;34m(y_true, y_pred, labels, target_names, sample_weight, digits, output_dict, zero_division)\u001b[0m\n\u001b[1;32m   2405\u001b[0m \u001b[38;5;129m@validate_params\u001b[39m(\n\u001b[1;32m   2406\u001b[0m     {\n\u001b[1;32m   2407\u001b[0m         \u001b[38;5;124m\"\u001b[39m\u001b[38;5;124my_true\u001b[39m\u001b[38;5;124m\"\u001b[39m: [\u001b[38;5;124m\"\u001b[39m\u001b[38;5;124marray-like\u001b[39m\u001b[38;5;124m\"\u001b[39m, \u001b[38;5;124m\"\u001b[39m\u001b[38;5;124msparse matrix\u001b[39m\u001b[38;5;124m\"\u001b[39m],\n\u001b[0;32m   (...)\u001b[0m\n\u001b[1;32m   2430\u001b[0m     zero_division\u001b[38;5;241m=\u001b[39m\u001b[38;5;124m\"\u001b[39m\u001b[38;5;124mwarn\u001b[39m\u001b[38;5;124m\"\u001b[39m,\n\u001b[1;32m   2431\u001b[0m ):\n\u001b[1;32m   2432\u001b[0m \u001b[38;5;250m    \u001b[39m\u001b[38;5;124;03m\"\"\"Build a text report showing the main classification metrics.\u001b[39;00m\n\u001b[1;32m   2433\u001b[0m \n\u001b[1;32m   2434\u001b[0m \u001b[38;5;124;03m    Read more in the :ref:`User Guide <classification_report>`.\u001b[39;00m\n\u001b[0;32m   (...)\u001b[0m\n\u001b[1;32m   2536\u001b[0m \u001b[38;5;124;03m    <BLANKLINE>\u001b[39;00m\n\u001b[1;32m   2537\u001b[0m \u001b[38;5;124;03m    \"\"\"\u001b[39;00m\n\u001b[0;32m-> 2539\u001b[0m     y_type, y_true, y_pred \u001b[38;5;241m=\u001b[39m \u001b[43m_check_targets\u001b[49m\u001b[43m(\u001b[49m\u001b[43my_true\u001b[49m\u001b[43m,\u001b[49m\u001b[43m \u001b[49m\u001b[43my_pred\u001b[49m\u001b[43m)\u001b[49m\n\u001b[1;32m   2541\u001b[0m     \u001b[38;5;28;01mif\u001b[39;00m labels \u001b[38;5;129;01mis\u001b[39;00m \u001b[38;5;28;01mNone\u001b[39;00m:\n\u001b[1;32m   2542\u001b[0m         labels \u001b[38;5;241m=\u001b[39m unique_labels(y_true, y_pred)\n",
      "File \u001b[0;32m~/.local/lib/python3.11/site-packages/sklearn/metrics/_classification.py:84\u001b[0m, in \u001b[0;36m_check_targets\u001b[0;34m(y_true, y_pred)\u001b[0m\n\u001b[1;32m     57\u001b[0m \u001b[38;5;28;01mdef\u001b[39;00m \u001b[38;5;21m_check_targets\u001b[39m(y_true, y_pred):\n\u001b[1;32m     58\u001b[0m \u001b[38;5;250m    \u001b[39m\u001b[38;5;124;03m\"\"\"Check that y_true and y_pred belong to the same classification task.\u001b[39;00m\n\u001b[1;32m     59\u001b[0m \n\u001b[1;32m     60\u001b[0m \u001b[38;5;124;03m    This converts multiclass or binary types to a common shape, and raises a\u001b[39;00m\n\u001b[0;32m   (...)\u001b[0m\n\u001b[1;32m     82\u001b[0m \u001b[38;5;124;03m    y_pred : array or indicator matrix\u001b[39;00m\n\u001b[1;32m     83\u001b[0m \u001b[38;5;124;03m    \"\"\"\u001b[39;00m\n\u001b[0;32m---> 84\u001b[0m     \u001b[43mcheck_consistent_length\u001b[49m\u001b[43m(\u001b[49m\u001b[43my_true\u001b[49m\u001b[43m,\u001b[49m\u001b[43m \u001b[49m\u001b[43my_pred\u001b[49m\u001b[43m)\u001b[49m\n\u001b[1;32m     85\u001b[0m     type_true \u001b[38;5;241m=\u001b[39m type_of_target(y_true, input_name\u001b[38;5;241m=\u001b[39m\u001b[38;5;124m\"\u001b[39m\u001b[38;5;124my_true\u001b[39m\u001b[38;5;124m\"\u001b[39m)\n\u001b[1;32m     86\u001b[0m     type_pred \u001b[38;5;241m=\u001b[39m type_of_target(y_pred, input_name\u001b[38;5;241m=\u001b[39m\u001b[38;5;124m\"\u001b[39m\u001b[38;5;124my_pred\u001b[39m\u001b[38;5;124m\"\u001b[39m)\n",
      "File \u001b[0;32m~/.local/lib/python3.11/site-packages/sklearn/utils/validation.py:409\u001b[0m, in \u001b[0;36mcheck_consistent_length\u001b[0;34m(*arrays)\u001b[0m\n\u001b[1;32m    407\u001b[0m uniques \u001b[38;5;241m=\u001b[39m np\u001b[38;5;241m.\u001b[39munique(lengths)\n\u001b[1;32m    408\u001b[0m \u001b[38;5;28;01mif\u001b[39;00m \u001b[38;5;28mlen\u001b[39m(uniques) \u001b[38;5;241m>\u001b[39m \u001b[38;5;241m1\u001b[39m:\n\u001b[0;32m--> 409\u001b[0m     \u001b[38;5;28;01mraise\u001b[39;00m \u001b[38;5;167;01mValueError\u001b[39;00m(\n\u001b[1;32m    410\u001b[0m         \u001b[38;5;124m\"\u001b[39m\u001b[38;5;124mFound input variables with inconsistent numbers of samples: \u001b[39m\u001b[38;5;132;01m%r\u001b[39;00m\u001b[38;5;124m\"\u001b[39m\n\u001b[1;32m    411\u001b[0m         \u001b[38;5;241m%\u001b[39m [\u001b[38;5;28mint\u001b[39m(l) \u001b[38;5;28;01mfor\u001b[39;00m l \u001b[38;5;129;01min\u001b[39;00m lengths]\n\u001b[1;32m    412\u001b[0m     )\n",
      "\u001b[0;31mValueError\u001b[0m: Found input variables with inconsistent numbers of samples: [600, 10]"
     ]
    }
   ],
   "source": [
    "#predictions_test = np.argmax(model.predict(test_images, verbose=0), -1)\n",
    "print('Testing set')\n",
    "print('VV_______VV')\n",
    "print(classification_report(y_test, preds))\n",
    "\n",
    "\n",
    "# test: confusion matrix\n",
    "cf_matrix = confusion_matrix(y_test, preds)\n",
    "cm_display = ConfusionMatrixDisplay(confusion_matrix=cf_matrix,)\n",
    "cm_display.plot()\n",
    "plt.show()"
   ]
  },
  {
   "cell_type": "code",
   "execution_count": null,
   "id": "30fc62bb",
   "metadata": {},
   "outputs": [],
   "source": [
    "ML = D1LP(Xo[:1000],y_train[:1000])\n",
    "preds = ML.classify(Xto)"
   ]
  },
  {
   "cell_type": "code",
   "execution_count": null,
   "id": "fd1d8c6d",
   "metadata": {},
   "outputs": [],
   "source": [
    "#predictions_test = np.argmax(model.predict(test_images, verbose=0), -1)\n",
    "print('Testing set')\n",
    "print('VV_______PP')\n",
    "print(classification_report(y_test, preds))\n",
    "\n",
    "\n",
    "# test: confusion matrix\n",
    "cf_matrix = confusion_matrix(y_test, preds)\n",
    "cm_display = ConfusionMatrixDisplay(confusion_matrix=cf_matrix,)\n",
    "cm_display.plot()\n",
    "plt.show()"
   ]
  },
  {
   "cell_type": "code",
   "execution_count": null,
   "id": "a5a96f9f",
   "metadata": {},
   "outputs": [],
   "source": [
    "ML = D1LP(Xo,y)\n",
    "preds = ML.classify(Xto)"
   ]
  },
  {
   "cell_type": "code",
   "execution_count": null,
   "id": "1cda31cf",
   "metadata": {},
   "outputs": [],
   "source": [
    "#predictions_test = np.argmax(model.predict(test_images, verbose=0), -1)\n",
    "print('Testing set')\n",
    "print('VV_______PP')\n",
    "print(classification_report(y_test, preds))\n",
    "\n",
    "\n",
    "# test: confusion matrix\n",
    "cf_matrix = confusion_matrix(y_test, preds)\n",
    "cm_display = ConfusionMatrixDisplay(confusion_matrix=cf_matrix,)\n",
    "cm_display.plot()\n",
    "plt.show()"
   ]
  },
  {
   "cell_type": "code",
   "execution_count": null,
   "id": "b15cc5fa",
   "metadata": {},
   "outputs": [],
   "source": []
  }
 ],
 "metadata": {
  "kernelspec": {
   "display_name": "Python 3.11 (XPython)",
   "language": "python",
   "name": "xpython"
  },
  "language_info": {
   "file_extension": ".py",
   "mimetype": "text/x-python",
   "name": "python",
   "version": "3.11.1"
  }
 },
 "nbformat": 4,
 "nbformat_minor": 5
}
